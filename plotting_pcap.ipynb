{
 "cells": [
  {
   "cell_type": "code",
   "execution_count": 1,
   "metadata": {},
   "outputs": [],
   "source": [
    "# !pip install -r requirements.txt"
   ]
  },
  {
   "cell_type": "code",
   "execution_count": 2,
   "metadata": {},
   "outputs": [],
   "source": [
    "# Generic imports\n",
    "import pandas as pd\n",
    "import plotly\n",
    "import plotly.graph_objects as go\n",
    "\n",
    "# 5G visualization logic\n",
    "import trace_plotting\n",
    "from utils.wireshark import *\n",
    "import logging"
   ]
  },
  {
   "cell_type": "code",
   "execution_count": 3,
   "metadata": {},
   "outputs": [],
   "source": [
    "# Wireshark trace with 5GC messages\n",
    "wireshark_traces = 'traces/free5gc.pcap.pcapng'"
   ]
  },
  {
   "cell_type": "code",
   "execution_count": 4,
   "metadata": {},
   "outputs": [
    {
     "name": "stderr",
     "output_type": "stream",
     "text": [
      "ERROR:root:Could not parse Wireshark versions from folder\n",
      "Traceback (most recent call last):\n",
      "  File \"/Users/steveglover/src/semantic-graphs/src/5g-trace-visualizer/utils/wireshark.py\", line 701, in get_wireshark_portable_last_version\n",
      "    last_Version = found_versions[0][1]\n",
      "                   ~~~~~~~~~~~~~~^^^\n",
      "IndexError: list index out of range\n",
      "ERROR:root:Could not find wireshark version(s) in wireshark folder\n",
      "ERROR:root:Could not successfully call Wireshark to parse files. Input parameters: version=latest; input file(s)=traces/free5gc.pcap.pcapng; HTTP/2 ports=32445,5002,5000,32665,80,32077,5006,8080,3000,8081\n",
      "Traceback (most recent call last):\n",
      "  File \"/Users/steveglover/src/semantic-graphs/src/5g-trace-visualizer/utils/wireshark.py\", line 902, in import_pcap_as_dataframe\n",
      "    pdml_file = call_wireshark(wireshark_version, \"\", file, http2_ports)\n",
      "                ^^^^^^^^^^^^^^^^^^^^^^^^^^^^^^^^^^^^^^^^^^^^^^^^^^^^^^^^\n",
      "  File \"/Users/steveglover/src/semantic-graphs/src/5g-trace-visualizer/utils/wireshark.py\", line 748, in call_wireshark\n",
      "    exit(1)\n",
      "    ^^^^\n",
      "NameError: name 'exit' is not defined\n"
     ]
    }
   ],
   "source": [
    "# DEBUG loggig level for big traces so that you can see if processing is stuck or not\n",
    "packets_df = import_pcap_as_dataframe(\n",
    "    wireshark_traces, \n",
    "    http2_ports = \"32445,5002,5000,32665,80,32077,5006,8080,3000,8081\",\n",
    "    wireshark_version = 'latest',\n",
    "    logging_level=logging.INFO)"
   ]
  },
  {
   "cell_type": "code",
   "execution_count": 5,
   "metadata": {},
   "outputs": [
    {
     "ename": "AttributeError",
     "evalue": "'NoneType' object has no attribute 'head'",
     "output_type": "error",
     "traceback": [
      "\u001b[0;31m---------------------------------------------------------------------------\u001b[0m",
      "\u001b[0;31mAttributeError\u001b[0m                            Traceback (most recent call last)",
      "Cell \u001b[0;32mIn[5], line 1\u001b[0m\n\u001b[0;32m----> 1\u001b[0m packets_df\u001b[38;5;241m.\u001b[39mhead()\n",
      "\u001b[0;31mAttributeError\u001b[0m: 'NoneType' object has no attribute 'head'"
     ]
    }
   ],
   "source": [
    "packets_df.head()"
   ]
  },
  {
   "cell_type": "code",
   "execution_count": null,
   "metadata": {},
   "outputs": [],
   "source": [
    "plot_data = trace_plotting.generate_scatterplots_for_wireshark_traces(packets_df, filter_column='file')[0]"
   ]
  },
  {
   "cell_type": "code",
   "execution_count": null,
   "metadata": {},
   "outputs": [],
   "source": [
    "fig = go.Figure(data=plot_data)\n",
    "fig.update_layout(shapes=trace_plotting.get_protocol_shapes(packets_df, y_axis='y'))\n",
    "fig.show()\n",
    "out_html = ''.join(wireshark_traces.split('.')[0:-1]) + '_pcap_plot.html'\n",
    "fig.write_html(out_html)"
   ]
  }
 ],
 "metadata": {
  "kernelspec": {
   "display_name": "Python 3 (ipykernel)",
   "language": "python",
   "name": "python3"
  },
  "language_info": {
   "codemirror_mode": {
    "name": "ipython",
    "version": 3
   },
   "file_extension": ".py",
   "mimetype": "text/x-python",
   "name": "python",
   "nbconvert_exporter": "python",
   "pygments_lexer": "ipython3",
   "version": "3.11.5"
  }
 },
 "nbformat": 4,
 "nbformat_minor": 4
}
